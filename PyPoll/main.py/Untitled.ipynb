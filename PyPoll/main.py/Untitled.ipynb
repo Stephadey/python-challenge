{
 "cells": [
  {
   "cell_type": "code",
   "execution_count": 2,
   "id": "193c92f4-3238-4e35-8dd0-62497c41f1e5",
   "metadata": {
    "tags": []
   },
   "outputs": [
    {
     "name": "stdout",
     "output_type": "stream",
     "text": [
      "Election Results\n",
      "-------------------------\n",
      "Total Votes: 369711\n",
      "-------------------------\n",
      "Charles Casper Stockham: 23.049% (85213)\n",
      "Diana DeGette: 73.812% (272892)\n",
      "Raymon Anthony Doane: 3.139% (11606)\n",
      "-------------------------\n",
      "Winner: Diana DeGette\n",
      "-------------------------\n",
      "\n",
      "Election analysis is complete. Results have been saved to 'election_results.txt' in the '../analysis/' folder.\n"
     ]
    }
   ],
   "source": [
    "import os\n",
    "import csv\n",
    "\n",
    "# Set CSV file path\n",
    "csvpath = \"../Resources/election_data.csv\"\n",
    "\n",
    "# Set output folder\n",
    "output_folder = \"../analysis/\"\n",
    "\n",
    "# Initialize variables to store election data\n",
    "total_votes = 0\n",
    "candidates = []\n",
    "candidate_votes = {}\n",
    "\n",
    "# Read the CSV file\n",
    "with open(csvpath, newline='') as csvfile:\n",
    "    csvreader = csv.reader(csvfile, delimiter=',')\n",
    "    \n",
    "    # Skip the header row\n",
    "    header = next(csvreader)\n",
    "\n",
    "    # Loop through each row in the CSV file\n",
    "    for row in csvreader:\n",
    "        # Count total votes\n",
    "        total_votes += 1\n",
    "\n",
    "        # Extract the candidate's name from the row\n",
    "        candidate_name = row[2]\n",
    "\n",
    "        # If the candidate is not in the candidates list, add them\n",
    "        if candidate_name not in candidates:\n",
    "            candidates.append(candidate_name)\n",
    "            candidate_votes[candidate_name] = 0\n",
    "\n",
    "        # Count the votes for each candidate\n",
    "        candidate_votes[candidate_name] += 1\n",
    "\n",
    "# Determine the winner based on popular vote\n",
    "winner = max(candidate_votes, key=candidate_votes.get)\n",
    "\n",
    "# Print analysis results\n",
    "analysis_results = [\n",
    "    'Election Results',\n",
    "    '-------------------------',\n",
    "    f'Total Votes: {total_votes}',\n",
    "    '-------------------------'\n",
    "]\n",
    "\n",
    "for candidate in candidates:\n",
    "    votes = candidate_votes[candidate]\n",
    "    percentage = (votes / total_votes) * 100\n",
    "    analysis_results.append(f'{candidate}: {percentage:.3f}% ({votes})')\n",
    "\n",
    "analysis_results.extend([\n",
    "    '-------------------------',\n",
    "    f'Winner: {winner}',\n",
    "    '-------------------------'\n",
    "])\n",
    "\n",
    "for result in analysis_results:\n",
    "    print(result)\n",
    "\n",
    "# Specify the full path for the output file, including the folder\n",
    "output_file = os.path.join(output_folder, \"election_results.txt\")\n",
    "\n",
    "# Write the analysis results to a text file\n",
    "with open(output_file, \"w\") as txtfile:\n",
    "    txtfile.write('\\n'.join(analysis_results))\n",
    "\n",
    "# Display a message indicating that the analysis is complete\n",
    "print(\"\\nElection analysis is complete. Results have been saved to 'election_results.txt' in the '../analysis/' folder.\")\n"
   ]
  },
  {
   "cell_type": "code",
   "execution_count": null,
   "id": "9c3e1751-6de9-490a-9c30-056e091c2638",
   "metadata": {},
   "outputs": [],
   "source": []
  }
 ],
 "metadata": {
  "kernelspec": {
   "display_name": "Python 3 (ipykernel)",
   "language": "python",
   "name": "python3"
  },
  "language_info": {
   "codemirror_mode": {
    "name": "ipython",
    "version": 3
   },
   "file_extension": ".py",
   "mimetype": "text/x-python",
   "name": "python",
   "nbconvert_exporter": "python",
   "pygments_lexer": "ipython3",
   "version": "3.9.18"
  }
 },
 "nbformat": 4,
 "nbformat_minor": 5
}
