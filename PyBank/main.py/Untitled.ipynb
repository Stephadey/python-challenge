{
 "cells": [
  {
   "cell_type": "code",
   "execution_count": 32,
   "id": "472a9e38-38e9-4794-a6c9-8379ee6e7c76",
   "metadata": {
    "tags": []
   },
   "outputs": [
    {
     "name": "stdout",
     "output_type": "stream",
     "text": [
      "Financial Analysis\n",
      "-------------------------\n",
      "Total Months: 86\n",
      "Total: $22564198\n",
      "Average Change: $-8311.11\n",
      "Greatest Increase in Profits: Aug-16 ($1862002)\n",
      "Greatest Decrease in Profits: Feb-14 ($-1825558)\n",
      "-------------------------\n",
      "\n",
      "Financial analysis is complete. Results have been saved to 'financial_analysis.txt' in the '../analysis/' folder.\n"
     ]
    }
   ],
   "source": [
    "import os\n",
    "import csv\n",
    "\n",
    "# Set CSV file path\n",
    "csvpath = \"../Resources/budget_data.csv\"\n",
    "\n",
    "# Set output folder\n",
    "output_folder = \"../analysis/\"\n",
    "\n",
    "# Initialize variables to store financial data\n",
    "total_months = 0\n",
    "net_total = 0\n",
    "previous_profit_loss = 0\n",
    "changes = []\n",
    "months = []\n",
    "\n",
    "# Read the CSV file\n",
    "with open(csvpath, newline='') as csvfile:\n",
    "    csvreader = csv.reader(csvfile, delimiter=',')\n",
    "    \n",
    "    # Skip the header row\n",
    "    header = next(csvreader)\n",
    "\n",
    "    # Loop through each row in the CSV file\n",
    "    for row in csvreader:\n",
    "        # Count total months\n",
    "        total_months += 1\n",
    "\n",
    "        # Extract the date and profit/loss from the row\n",
    "        date = row[0]\n",
    "        profit_loss = int(row[1])\n",
    "\n",
    "        # Calculate the net total amount of profit/loss\n",
    "        net_total += profit_loss\n",
    "\n",
    "        # Calculate the change in profit/loss from the previous month\n",
    "        if total_months > 1:\n",
    "            change = profit_loss - previous_profit_loss\n",
    "            changes.append(change)\n",
    "            months.append(date)\n",
    "\n",
    "        previous_profit_loss = profit_loss\n",
    "\n",
    "# Calculate the average change in profit/loss\n",
    "average_change = sum(changes) / len(changes)\n",
    "\n",
    "# Find the greatest increase and decrease in profits\n",
    "max_increase = max(changes)\n",
    "max_decrease = min(changes)\n",
    "max_increase_month = months[changes.index(max_increase)]\n",
    "max_decrease_month = months[changes.index(max_decrease)]\n",
    "\n",
    "# Print analysis results\n",
    "analysis_results = [\n",
    "    'Financial Analysis',\n",
    "    '-------------------------',\n",
    "    f'Total Months: {total_months}',\n",
    "    f'Total: ${net_total}',\n",
    "    f'Average Change: ${average_change:.2f}',\n",
    "    f'Greatest Increase in Profits: {max_increase_month} (${max_increase})',\n",
    "    f'Greatest Decrease in Profits: {max_decrease_month} (${max_decrease})',\n",
    "    '-------------------------'\n",
    "]\n",
    "\n",
    "for result in analysis_results:\n",
    "    print(result)\n",
    "\n",
    "# Specify the full path for the output file, including the folder\n",
    "output_file = os.path.join(output_folder, \"financial_analysis.txt\")\n",
    "\n",
    "# Write the analysis results to a text file\n",
    "with open(output_file, \"w\") as txtfile:\n",
    "    txtfile.write('\\n'.join(analysis_results))\n",
    "\n",
    "# Display a message indicating that the analysis is complete\n",
    "print(\"\\nFinancial analysis is complete. Results have been saved to 'financial_analysis.txt' in the '../analysis/' folder.\")\n"
   ]
  },
  {
   "cell_type": "code",
   "execution_count": null,
   "id": "cc5529fc-b898-4fb9-90e9-f566cca5c5ea",
   "metadata": {},
   "outputs": [],
   "source": []
  }
 ],
 "metadata": {
  "kernelspec": {
   "display_name": "Python 3 (ipykernel)",
   "language": "python",
   "name": "python3"
  },
  "language_info": {
   "codemirror_mode": {
    "name": "ipython",
    "version": 3
   },
   "file_extension": ".py",
   "mimetype": "text/x-python",
   "name": "python",
   "nbconvert_exporter": "python",
   "pygments_lexer": "ipython3",
   "version": "3.9.18"
  }
 },
 "nbformat": 4,
 "nbformat_minor": 5
}
